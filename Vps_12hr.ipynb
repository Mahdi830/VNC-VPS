{
  "cells": [
    {
      "cell_type": "markdown",
      "metadata": {
        "id": "view-in-github",
        "colab_type": "text"
      },
      "source": [
        "<a href=\"https://colab.research.google.com/github/Mahdi830/VNC-VPS/blob/main/Vps_12hr.ipynb\" target=\"_parent\"><img src=\"https://colab.research.google.com/assets/colab-badge.svg\" alt=\"Open In Colab\"/></a>"
      ]
    },
    {
      "cell_type": "code",
      "source": [
        "! nvidia-smi"
      ],
      "metadata": {
        "id": "S4tATGxd5054",
        "colab": {
          "base_uri": "https://localhost:8080/"
        },
        "outputId": "218c56f2-1ace-4f1e-9f06-8d439641c539"
      },
      "execution_count": null,
      "outputs": [
        {
          "output_type": "stream",
          "name": "stdout",
          "text": [
            "Wed Mar 30 08:26:04 2022       \n",
            "+-----------------------------------------------------------------------------+\n",
            "| NVIDIA-SMI 460.32.03    Driver Version: 460.32.03    CUDA Version: 11.2     |\n",
            "|-------------------------------+----------------------+----------------------+\n",
            "| GPU  Name        Persistence-M| Bus-Id        Disp.A | Volatile Uncorr. ECC |\n",
            "| Fan  Temp  Perf  Pwr:Usage/Cap|         Memory-Usage | GPU-Util  Compute M. |\n",
            "|                               |                      |               MIG M. |\n",
            "|===============================+======================+======================|\n",
            "|   0  Tesla K80           Off  | 00000000:00:04.0 Off |                    0 |\n",
            "| N/A   72C    P8    35W / 149W |      0MiB / 11441MiB |      0%      Default |\n",
            "|                               |                      |                  N/A |\n",
            "+-------------------------------+----------------------+----------------------+\n",
            "                                                                               \n",
            "+-----------------------------------------------------------------------------+\n",
            "| Processes:                                                                  |\n",
            "|  GPU   GI   CI        PID   Type   Process name                  GPU Memory |\n",
            "|        ID   ID                                                   Usage      |\n",
            "|=============================================================================|\n",
            "|  No running processes found                                                 |\n",
            "+-----------------------------------------------------------------------------+\n"
          ]
        }
      ]
    },
    {
      "cell_type": "code",
      "source": [
        "\n",
        "#@title **STEP 1 CREATE USER**\n",
        " \n",
        "import os\n",
        " \n",
        "username = \"user\" #@param {type:\"string\"}\n",
        "password = \"root\" #@param {type:\"string\"}\n",
        " \n",
        "print(\"Creating User and Setting it up\")\n",
        " \n",
        "# Creation of user\n",
        "os.system(f\"useradd -m {username}\")\n",
        " \n",
        "# Add user to sudo group\n",
        "os.system(f\"adduser {username} sudo\")\n",
        "    \n",
        "# Set password of user to 'root'\n",
        "os.system(f\"echo '{username}:{password}' | sudo chpasswd\")\n",
        " \n",
        "# Change default shell from sh to bash\n",
        "os.system(\"sed -i 's/\\/bin\\/sh/\\/bin\\/bash/g' /etc/passwd\")\n",
        " \n",
        "print(\"User Created and Configured\")"
      ],
      "metadata": {
        "id": "GiE7SRqV56zq",
        "cellView": "form"
      },
      "execution_count": null,
      "outputs": []
    },
    {
      "cell_type": "code",
      "source": [
        "#@title **INSTALL YOUR VPS **\n",
        "\n",
        "#@markdown It takes 4-5 minutes for installation\n",
        "\n",
        "import os\n",
        "\n",
        "import subprocess\n",
        "\n",
        "#@markdown Visit http://remotedesktop.google.com/headless and Copy the command after authentication\n",
        "\n",
        "CRP = \"\" #@param {type:\"string\"}\n",
        "\n",
        "#@markdown Enter a pin more or equal to 6 digits\n",
        "\n",
        "Pin = 123456 #@param {type: \"integer\"}\n",
        "\n",
        "class CRD:\n",
        "\n",
        "def __init__(self):\n",
        "\n",
        "os.system(\"apt update\")\n",
        "\n",
        "self.installCRD()\n",
        "\n",
        "self.installDesktopEnvironment()\n",
        "\n",
        "self.installGoogleChorme()\n",
        "\n",
        "self.finish()\n",
        "\n",
        "@staticmethod\n",
        "\n",
        "def installCRD():\n",
        "\n",
        "print(\"Installing Chrome Remote Desktop\")\n",
        "\n",
        "subprocess.run(['wget', 'https://dl.google.com/linux/direct/chrome-remote-desktop_current_amd64.deb'], stdout=subprocess.PIPE)\n",
        "\n",
        "subprocess.run(['dpkg', '--install', 'chrome-remote-desktop_current_amd64.deb'], stdout=subprocess.PIPE)\n",
        "\n",
        "subprocess.run(['apt', 'install', '--assume-yes', '--fix-broken'], stdout=subprocess.PIPE)\n",
        "\n",
        "@staticmethod\n",
        "\n",
        "def installDesktopEnvironment():\n",
        "\n",
        "print(\"Installing Desktop Environment\")\n",
        "\n",
        "os.system(\"export DEBIAN_FRONTEND=noninteractive\")\n",
        "\n",
        "os.system(\"apt install --assume-yes xfce4 desktop-base xfce4-terminal\")\n",
        "\n",
        "os.system(\"bash -c 'echo \\\"exec /etc/X11/Xsession /usr/bin/xfce4-session\\\" > /etc/chrome-remote-desktop-session'\")\n",
        "\n",
        "os.system(\"apt remove --assume-yes gnome-terminal\")\n",
        "\n",
        "os.system(\"apt install --assume-yes xscreensaver\")\n",
        "\n",
        "os.system(\"systemctl disable lightdm.service\")\n",
        "\n",
        "@staticmethod\n",
        "\n",
        "def installGoogleChorme():\n",
        "\n",
        "print(\"Installing Google Chrome\")\n",
        "\n",
        "subprocess.run([\"wget\", \"https://dl.google.com/linux/direct/google-chrome-stable_current_amd64.deb\"], stdout=subprocess.PIPE)\n",
        "\n",
        "subprocess.run([\"dpkg\", \"--install\", \"google-chrome-stable_current_amd64.deb\"], stdout=subprocess.PIPE)\n",
        "\n",
        "subprocess.run(['apt', 'install', '--assume-yes', '--fix-broken'], stdout=subprocess.PIPE)\n",
        "\n",
        "@staticmethod\n",
        "\n",
        "def finish():\n",
        "\n",
        "print(\"Finalizing\")\n",
        "\n",
        "os.system(f\"adduser {username} chrome-remote-desktop\")\n",
        "\n",
        "command = f\"{CRP} --pin={Pin}\"\n",
        "\n",
        "os.system(f\"su - {username} -c '{command}'\")\n",
        "\n",
        "os.system(\"service chrome-remote-desktop start\")\n",
        "\n",
        "print(\"Finished Succesfully\")\n",
        "\n",
        "try:\n",
        "\n",
        "if username:\n",
        "\n",
        "if CRP == \"\":\n",
        "\n",
        "print(\"Please enter authcode from the given link\")\n",
        "\n",
        "elif len(str(Pin)) < 6:\n",
        "\n",
        "print(\"Enter a pin more or equal to 6 digits\")\n",
        "\n",
        "else:\n",
        "\n",
        "CRD()\n",
        "\n",
        "except NameError as e:\n",
        "\n",
        "print(\"username variable not found\")\n",
        "\n",
        "print(\"Create a User First\")"
      ],
      "metadata": {
        "id": "WyZIZqp26Ip-",
        "cellView": "form"
      },
      "execution_count": null,
      "outputs": []
    },
    {
      "cell_type": "code",
      "source": [
        "#@title **MAKE ALIVE VPS 12 HOURS** \n",
        "\n",
        "alive = True #@param {type:'boolean'}\n",
        "\n",
        "! sleep 432000"
      ],
      "metadata": {
        "id": "tNd5twfX6Wse",
        "cellView": "form"
      },
      "execution_count": null,
      "outputs": []
    }
  ],
  "metadata": {
    "colab": {
      "collapsed_sections": [],
      "name": "Vps_12hr",
      "provenance": [],
      "toc_visible": true,
      "include_colab_link": true
    },
    "kernelspec": {
      "display_name": "Python 3",
      "name": "python3"
    },
    "accelerator": "GPU"
  },
  "nbformat": 4,
  "nbformat_minor": 0
}